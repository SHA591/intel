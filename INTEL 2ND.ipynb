{
  "nbformat": 4,
  "nbformat_minor": 0,
  "metadata": {
    "colab": {
      "provenance": []
    },
    "kernelspec": {
      "name": "python3",
      "display_name": "Python 3"
    },
    "language_info": {
      "name": "python"
    }
  },
  "cells": [
    {
      "cell_type": "code",
      "execution_count": 1,
      "metadata": {
        "colab": {
          "base_uri": "https://localhost:8080/"
        },
        "id": "zt0VKUhm6tI_",
        "outputId": "5bc8a20d-1e48-4b67-e8cd-8462556d8c4a"
      },
      "outputs": [
        {
          "output_type": "stream",
          "name": "stdout",
          "text": [
            "Original DataFrame shape: (17328, 43)\n",
            "Selected DataFrame shape: (17328, 43)\n",
            "Anomaly Predictions: [ 1  1  1  1  1  1  1  1  1  1  1 -1  1  1  1  1  1  1  1  1  1  1  1  1\n",
            "  1  1  1  1  1  1  1  1  1  1  1  1  1  1  1  1  1  1  1  1  1  1  1  1\n",
            "  1  1  1  1  1  1  1 -1  1  1  1  1  1  1  1  1  1  1  1  1  1  1  1 -1\n",
            "  1  1  1  1  1  1  1  1  1  1  1  1  1  1  1  1  1  1 -1  1  1  1  1  1\n",
            "  1  1  1  1  1  1  1  1  1  1  1  1  1  1  1  1  1  1  1  1  1  1  1  1\n",
            "  1  1  1  1  1  1  1  1  1  1  1 -1  1  1  1  1  1  1  1  1  1  1  1  1\n",
            "  1  1  1  1  1  1  1  1  1  1  1  1  1  1  1  1 -1  1  1  1  1  1 -1  1\n",
            "  1  1  1  1  1  1  1  1  1  1  1  1  1  1  1  1  1  1  1  1  1  1  1  1\n",
            "  1  1  1  1  1  1  1  1  1  1  1  1  1  1  1  1  1  1  1  1  1  1  1  1\n",
            "  1  1  1  1  1  1  1  1  1  1  1  1  1  1  1  1  1  1  1  1  1  1  1  1\n",
            "  1  1  1  1  1  1  1  1  1  1  1  1  1  1  1  1  1  1  1  1  1  1  1  1\n",
            "  1  1  1  1  1  1  1  1  1  1  1  1  1  1  1  1  1  1  1  1  1  1  1  1\n",
            "  1  1  1  1  1  1  1  1  1  1  1  1  1  1  1  1  1  1  1  1  1  1  1  1\n",
            "  1  1  1  1  1  1  1  1  1  1  1  1  1  1  1  1  1  1  1  1  1  1  1  1\n",
            "  1  1  1  1  1  1  1  1  1  1  1  1  1  1  1  1  1  1  1  1  1  1  1  1\n",
            "  1  1  1  1  1  1  1  1  1  1  1 -1  1  1  1  1  1  1  1  1  1  1 -1  1\n",
            "  1  1  1  1  1  1  1  1  1  1  1  1  1  1  1  1  1  1  1  1  1  1  1  1\n",
            "  1  1  1  1  1  1  1  1  1  1  1  1  1  1  1  1  1  1  1 -1  1  1  1  1\n",
            "  1  1  1  1  1  1  1  1  1  1  1  1  1  1  1  1  1  1  1  1  1  1  1  1\n",
            "  1  1  1  1  1  1 -1  1  1  1 -1  1  1  1  1  1  1  1  1  1  1  1  1  1\n",
            "  1  1  1  1  1  1  1  1  1  1  1  1  1  1  1  1  1  1  1  1  1  1  1  1\n",
            "  1  1  1 -1  1  1  1  1  1  1  1  1  1  1  1  1  1  1  1  1  1  1  1  1\n",
            "  1  1  1  1  1  1  1  1  1  1  1  1  1 -1  1  1  1  1  1  1  1  1  1  1\n",
            "  1  1  1 -1  1  1  1  1 -1  1  1  1  1  1  1  1  1  1  1  1  1  1  1  1\n",
            "  1  1  1 -1  1  1  1  1  1  1  1  1  1  1  1  1  1  1  1  1  1  1  1  1\n",
            "  1  1  1  1  1  1  1  1  1  1  1  1  1  1  1  1  1  1  1  1  1  1  1  1\n",
            "  1  1  1  1  1  1  1 -1  1  1  1  1  1 -1  1  1  1  1  1  1  1  1  1  1\n",
            "  1  1  1  1  1  1  1  1  1  1  1  1  1  1  1  1  1  1  1  1 -1  1  1  1\n",
            "  1  1  1  1  1  1  1  1  1  1  1  1  1  1  1  1  1  1  1  1  1  1  1  1\n",
            "  1  1  1  1  1  1  1  1  1  1  1  1  1  1  1  1  1  1  1  1  1  1 -1  1\n",
            "  1  1  1  1  1  1  1  1  1  1  1  1  1  1  1  1  1  1  1  1  1  1  1  1\n",
            "  1  1  1  1  1  1  1  1  1  1  1  1  1  1  1  1  1  1  1  1  1  1  1  1\n",
            "  1  1  1  1  1  1  1  1  1  1  1  1  1  1  1  1  1  1 -1  1  1  1  1  1\n",
            "  1  1  1  1  1  1  1  1  1  1  1  1  1  1 -1  1  1  1  1 -1  1  1  1  1\n",
            "  1  1  1  1  1  1  1  1 -1  1  1  1  1  1  1  1  1  1  1  1  1  1  1  1\n",
            "  1  1  1  1  1  1  1  1  1  1  1  1 -1  1  1  1  1  1  1  1  1  1  1  1\n",
            "  1  1  1  1  1  1  1  1  1  1  1  1  1]\n"
          ]
        }
      ],
      "source": [
        "import pandas as pd\n",
        "from sklearn.preprocessing import StandardScaler, LabelEncoder\n",
        "from sklearn.model_selection import train_test_split\n",
        "from sklearn.ensemble import IsolationForest\n",
        "\n",
        "# Load the dataset into a DataFrame\n",
        "drone_data = pd.read_csv(r'/content/updated_drone_dataset_with_new_features.csv')\n",
        "\n",
        "# Display the shape of the original DataFrame\n",
        "print(\"Original DataFrame shape:\", drone_data.shape)\n",
        "\n",
        "# Select the first 4300 columns\n",
        "selected_columns = drone_data.iloc[:, :4300]\n",
        "print(\"Selected DataFrame shape:\", selected_columns.shape)\n",
        "\n",
        "# Define continuous and categorical features based on the selected columns\n",
        "continuous_features = selected_columns.columns[:11].tolist()  # Assuming the first 11 are continuous features\n",
        "categorical_features = selected_columns.columns[11:].tolist()  # Remaining are categorical features\n",
        "\n",
        "# Convert all continuous features to numeric, coercing errors to NaN\n",
        "for column in continuous_features:\n",
        "    selected_columns[column] = pd.to_numeric(selected_columns[column], errors='coerce')\n",
        "\n",
        "# Drop rows with NaN values resulting from conversion\n",
        "selected_columns = selected_columns.dropna(subset=continuous_features)\n",
        "\n",
        "# Normalize continuous features\n",
        "scaler = StandardScaler()\n",
        "selected_columns[continuous_features] = scaler.fit_transform(selected_columns[continuous_features])\n",
        "\n",
        "# Encode categorical features\n",
        "label_encoder = LabelEncoder()\n",
        "for feature in categorical_features:\n",
        "    selected_columns[feature] = label_encoder.fit_transform(selected_columns[feature])\n",
        "\n",
        "# Split the data into features (X) and target label (Y)\n",
        "X = selected_columns.drop('Intrusion_Attempts', axis=1)  # Ensure 'Intrusion_Attempts' exists\n",
        "y = selected_columns['Intrusion_Attempts']                # Ensure 'Intrusion_Attempts' exists\n",
        "\n",
        "# Train/Test Split\n",
        "X_train, X_test, y_train, y_test = train_test_split(X, y, test_size=0.2, random_state=42)\n",
        "\n",
        "# Isolation Forest for anomaly detection\n",
        "isolation_forest = IsolationForest(contamination=0.02, random_state=42)\n",
        "isolation_forest.fit(X_train)  # Fit the model\n",
        "\n",
        "# Now you can proceed with predictions or other analysis\n",
        "y_pred_anomalies = isolation_forest.predict(X_test)\n",
        "\n",
        "# Display prediction results\n",
        "print(\"Anomaly Predictions:\", y_pred_anomalies)\n"
      ]
    },
    {
      "cell_type": "code",
      "source": [
        "import numpy as np\n",
        "# Count anomalies and normal instances in the predictions\n",
        "unique, counts = np.unique(y_pred_anomalies, return_counts=True)\n",
        "anomaly_counts = dict(zip(unique, counts))\n",
        "print(f\"Anomalies and Normal Instances: {anomaly_counts}\")"
      ],
      "metadata": {
        "colab": {
          "base_uri": "https://localhost:8080/"
        },
        "id": "hhdgLDBY7b4Y",
        "outputId": "429b287f-585b-482c-cae6-ed27c6050c25"
      },
      "execution_count": 3,
      "outputs": [
        {
          "output_type": "stream",
          "name": "stdout",
          "text": [
            "Anomalies and Normal Instances: {-1: 26, 1: 851}\n"
          ]
        }
      ]
    },
    {
      "cell_type": "code",
      "source": [
        "from sklearn.metrics import accuracy_score, confusion_matrix, classification_report\n",
        "\n",
        "# Check if ground truth labels (y_test) for anomalies exist\n",
        "if 'y_test' in locals():  # Assuming y_test has actual labels\n",
        "    print(\"Accuracy:\", accuracy_score(y_test, y_pred_anomalies))\n",
        "    print(\"Confusion Matrix:\\n\", confusion_matrix(y_test, y_pred_anomalies))\n",
        "    print(\"Classification Report:\\n\", classification_report(y_test, y_pred_anomalies))\n"
      ],
      "metadata": {
        "colab": {
          "base_uri": "https://localhost:8080/"
        },
        "id": "IOS1jmAq7cSx",
        "outputId": "a0ac4233-e3ad-4d07-b474-19b985abe8f0"
      },
      "execution_count": 4,
      "outputs": [
        {
          "output_type": "stream",
          "name": "stdout",
          "text": [
            "Accuracy: 0.9486887115165337\n",
            "Confusion Matrix:\n",
            " [[  0   0   0]\n",
            " [  1   0  19]\n",
            " [ 25   0 832]]\n",
            "Classification Report:\n",
            "               precision    recall  f1-score   support\n",
            "\n",
            "          -1       0.00      0.00      0.00         0\n",
            "           0       0.00      0.00      0.00        20\n",
            "           1       0.98      0.97      0.97       857\n",
            "\n",
            "    accuracy                           0.95       877\n",
            "   macro avg       0.33      0.32      0.32       877\n",
            "weighted avg       0.96      0.95      0.95       877\n",
            "\n"
          ]
        },
        {
          "output_type": "stream",
          "name": "stderr",
          "text": [
            "/usr/local/lib/python3.10/dist-packages/sklearn/metrics/_classification.py:1531: UndefinedMetricWarning: Precision is ill-defined and being set to 0.0 in labels with no predicted samples. Use `zero_division` parameter to control this behavior.\n",
            "  _warn_prf(average, modifier, f\"{metric.capitalize()} is\", len(result))\n",
            "/usr/local/lib/python3.10/dist-packages/sklearn/metrics/_classification.py:1531: UndefinedMetricWarning: Recall is ill-defined and being set to 0.0 in labels with no true samples. Use `zero_division` parameter to control this behavior.\n",
            "  _warn_prf(average, modifier, f\"{metric.capitalize()} is\", len(result))\n",
            "/usr/local/lib/python3.10/dist-packages/sklearn/metrics/_classification.py:1531: UndefinedMetricWarning: Precision is ill-defined and being set to 0.0 in labels with no predicted samples. Use `zero_division` parameter to control this behavior.\n",
            "  _warn_prf(average, modifier, f\"{metric.capitalize()} is\", len(result))\n",
            "/usr/local/lib/python3.10/dist-packages/sklearn/metrics/_classification.py:1531: UndefinedMetricWarning: Recall is ill-defined and being set to 0.0 in labels with no true samples. Use `zero_division` parameter to control this behavior.\n",
            "  _warn_prf(average, modifier, f\"{metric.capitalize()} is\", len(result))\n",
            "/usr/local/lib/python3.10/dist-packages/sklearn/metrics/_classification.py:1531: UndefinedMetricWarning: Precision is ill-defined and being set to 0.0 in labels with no predicted samples. Use `zero_division` parameter to control this behavior.\n",
            "  _warn_prf(average, modifier, f\"{metric.capitalize()} is\", len(result))\n",
            "/usr/local/lib/python3.10/dist-packages/sklearn/metrics/_classification.py:1531: UndefinedMetricWarning: Recall is ill-defined and being set to 0.0 in labels with no true samples. Use `zero_division` parameter to control this behavior.\n",
            "  _warn_prf(average, modifier, f\"{metric.capitalize()} is\", len(result))\n"
          ]
        }
      ]
    },
    {
      "cell_type": "code",
      "source": [
        "# Try different contamination levels\n",
        "for contamination in [0.01, 0.02, 0.05]:\n",
        "    isolation_forest = IsolationForest(contamination=contamination, random_state=42)\n",
        "    isolation_forest.fit(X_train)\n",
        "    y_pred_anomalies = isolation_forest.predict(X_test)\n",
        "    print(f\"Contamination: {contamination}\")\n",
        "    if 'y_test' in locals():\n",
        "        print(\"Accuracy:\", accuracy_score(y_test, y_pred_anomalies))"
      ],
      "metadata": {
        "colab": {
          "base_uri": "https://localhost:8080/"
        },
        "id": "v3fwZauZ7chu",
        "outputId": "1cb5be54-f389-4f02-dbc1-b96ab78a14fd"
      },
      "execution_count": 5,
      "outputs": [
        {
          "output_type": "stream",
          "name": "stdout",
          "text": [
            "Contamination: 0.01\n",
            "Accuracy: 0.9600912200684151\n",
            "Contamination: 0.02\n",
            "Accuracy: 0.9486887115165337\n",
            "Contamination: 0.05\n",
            "Accuracy: 0.9304446978335233\n"
          ]
        }
      ]
    },
    {
      "cell_type": "code",
      "source": [
        "import matplotlib.pyplot as plt\n",
        "\n",
        "# Visualizing the anomaly predictions\n",
        "plt.bar(anomaly_counts.keys(), anomaly_counts.values(), color=['blue', 'red'])\n",
        "plt.xticks([1, -1], ['Normal', 'Anomalies'])\n",
        "plt.ylabel('Count')\n",
        "plt.title('Anomaly Detection in Drone Communication Data')\n",
        "plt.show()"
      ],
      "metadata": {
        "colab": {
          "base_uri": "https://localhost:8080/",
          "height": 452
        },
        "id": "dTLJ3a-472cw",
        "outputId": "9ebb6709-bd29-46c4-8f1e-5d01267acde0"
      },
      "execution_count": 6,
      "outputs": [
        {
          "output_type": "display_data",
          "data": {
            "text/plain": [
              "<Figure size 640x480 with 1 Axes>"
            ],
            "image/png": "[encoded data removed]"
          },
          "metadata": {}
        }
      ]
    },
    {
      "cell_type": "code",
      "source": [
        "# Example of logging anomalies\n",
        "anomalies = X_test[y_pred_anomalies == -1]\n",
        "anomalies.to_csv(\"detected_anomalies.csv\", index=False)\n",
        "print(\"Anomalies logged.\")\n"
      ],
      "metadata": {
        "colab": {
          "base_uri": "https://localhost:8080/"
        },
        "id": "w1qcMhYd73Mo",
        "outputId": "4fd1a4f2-e37e-4a6f-959f-1edc9c336c67"
      },
      "execution_count": 7,
      "outputs": [
        {
          "output_type": "stream",
          "name": "stdout",
          "text": [
            "Anomalies logged.\n"
          ]
        }
      ]
    },
    {
      "cell_type": "code",
      "source": [
        "import time\n",
        "import numpy as np\n",
        "\n",
        "# Function to simulate real-time monitoring\n",
        "def real_time_monitoring(data_chunk, model):\n",
        "    # Predict anomalies on the new data chunk\n",
        "    predictions = model.predict(data_chunk)\n",
        "    anomalies = np.where(predictions == -1)[0]  # Get anomaly indices\n",
        "    return anomalies\n",
        "\n",
        "# Simulate real-time data stream\n",
        "batch_size = 100  # Define the size of each data batch\n",
        "for i in range(0, len(X_test), batch_size):\n",
        "    data_chunk = X_test[i:i+batch_size]\n",
        "    anomalies = real_time_monitoring(data_chunk, isolation_forest)\n",
        "\n",
        "    if len(anomalies) > 0:\n",
        "        print(f\"Anomalies detected in batch {i // batch_size + 1}: {anomalies}\")\n",
        "        # Trigger alert or log the anomaly\n",
        "        # Example: Save anomalies to a CSV file\n",
        "        data_chunk.iloc[anomalies].to_csv(f\"anomalies_batch_{i // batch_size + 1}.csv\", index=False)\n",
        "\n",
        "    time.sleep(1)  # Simulate delay between data batches\n"
      ],
      "metadata": {
        "colab": {
          "base_uri": "https://localhost:8080/"
        },
        "id": "t0XrnPpz7c1y",
        "outputId": "fc48d4e2-6171-4d67-efdc-6d4a5296de39"
      },
      "execution_count": 8,
      "outputs": [
        {
          "output_type": "stream",
          "name": "stdout",
          "text": [
            "Anomalies detected in batch 1: [11 35 55 71 90]\n",
            "Anomalies detected in batch 2: [17 31 55 60 66 88]\n",
            "Anomalies detected in batch 3: [3]\n",
            "Anomalies detected in batch 4: [71 82 89]\n",
            "Anomalies detected in batch 5: [27 40 46 62 66]\n",
            "Anomalies detected in batch 6: [ 7 41 55 60 69 75 78 79]\n",
            "Anomalies detected in batch 7: [25 31 37 56 59 68 75]\n",
            "Anomalies detected in batch 8: [13 18 86]\n",
            "Anomalies detected in batch 9: [ 6 11 24 52 60]\n"
          ]
        }
      ]
    },
    {
      "cell_type": "code",
      "source": [
        "pip install keras"
      ],
      "metadata": {
        "colab": {
          "base_uri": "https://localhost:8080/"
        },
        "id": "7b0kwNKG8Mxw",
        "outputId": "99c419a4-e7a3-482d-cac3-455b6bcc68b9"
      },
      "execution_count": 9,
      "outputs": [
        {
          "output_type": "stream",
          "name": "stdout",
          "text": [
            "Requirement already satisfied: keras in /usr/local/lib/python3.10/dist-packages (3.4.1)\n",
            "Requirement already satisfied: absl-py in /usr/local/lib/python3.10/dist-packages (from keras) (1.4.0)\n",
            "Requirement already satisfied: numpy in /usr/local/lib/python3.10/dist-packages (from keras) (1.26.4)\n",
            "Requirement already satisfied: rich in /usr/local/lib/python3.10/dist-packages (from keras) (13.8.1)\n",
            "Requirement already satisfied: namex in /usr/local/lib/python3.10/dist-packages (from keras) (0.0.8)\n",
            "Requirement already satisfied: h5py in /usr/local/lib/python3.10/dist-packages (from keras) (3.11.0)\n",
            "Requirement already satisfied: optree in /usr/local/lib/python3.10/dist-packages (from keras) (0.12.1)\n",
            "Requirement already satisfied: ml-dtypes in /usr/local/lib/python3.10/dist-packages (from keras) (0.4.1)\n",
            "Requirement already satisfied: packaging in /usr/local/lib/python3.10/dist-packages (from keras) (24.1)\n",
            "Requirement already satisfied: typing-extensions>=4.5.0 in /usr/local/lib/python3.10/dist-packages (from optree->keras) (4.12.2)\n",
            "Requirement already satisfied: markdown-it-py>=2.2.0 in /usr/local/lib/python3.10/dist-packages (from rich->keras) (3.0.0)\n",
            "Requirement already satisfied: pygments<3.0.0,>=2.13.0 in /usr/local/lib/python3.10/dist-packages (from rich->keras) (2.18.0)\n",
            "Requirement already satisfied: mdurl~=0.1 in /usr/local/lib/python3.10/dist-packages (from markdown-it-py>=2.2.0->rich->keras) (0.1.2)\n"
          ]
        }
      ]
    },
    {
      "cell_type": "code",
      "source": [
        "from keras.models import Sequential\n",
        "from keras.layers import Dense\n",
        "\n",
        "# Build a simple neural network for binary classification (intrusion detection)\n",
        "model = Sequential()\n",
        "model.add(Dense(64, input_dim=X_train.shape[1], activation='relu'))\n",
        "model.add(Dense(32, activation='relu'))\n",
        "model.add(Dense(1, activation='sigmoid'))  # Output layer for binary classification\n",
        "\n",
        "# Compile the model\n",
        "model.compile(loss='binary_crossentropy', optimizer='adam', metrics=['accuracy'])\n",
        "\n",
        "# Train the model\n",
        "model.fit(X_train, y_train, epochs=10, batch_size=64, verbose=1)\n",
        "\n",
        "# Evaluate the model on test data\n",
        "accuracy = model.evaluate(X_test, y_test)\n",
        "print(f\"Accuracy: {accuracy}\")\n",
        "\n",
        "# Make predictions on the test set (anomalies are marked as 1 or 0)\n",
        "y_pred = model.predict(X_test)\n",
        "\n"
      ],
      "metadata": {
        "colab": {
          "base_uri": "https://localhost:8080/"
        },
        "id": "DgJqxcXG8NaX",
        "outputId": "477bbb45-ea06-409d-ed5e-2b5dd9ed04fc"
      },
      "execution_count": 10,
      "outputs": [
        {
          "output_type": "stream",
          "name": "stdout",
          "text": [
            "Epoch 1/10\n"
          ]
        },
        {
          "output_type": "stream",
          "name": "stderr",
          "text": [
            "/usr/local/lib/python3.10/dist-packages/keras/src/layers/core/dense.py:87: UserWarning: Do not pass an `input_shape`/`input_dim` argument to a layer. When using Sequential models, prefer using an `Input(shape)` object as the first layer in the model instead.\n",
            "  super().__init__(activity_regularizer=activity_regularizer, **kwargs)\n"
          ]
        },
        {
          "output_type": "stream",
          "name": "stdout",
          "text": [
            "\u001b[1m55/55\u001b[0m \u001b[32m━━━━━━━━━━━━━━━━━━━━\u001b[0m\u001b[37m\u001b[0m \u001b[1m2s\u001b[0m 2ms/step - accuracy: 0.9670 - loss: 23.9095\n",
            "Epoch 2/10\n",
            "\u001b[1m55/55\u001b[0m \u001b[32m━━━━━━━━━━━━━━━━━━━━\u001b[0m\u001b[37m\u001b[0m \u001b[1m0s\u001b[0m 2ms/step - accuracy: 0.9635 - loss: 6.6849\n",
            "Epoch 3/10\n",
            "\u001b[1m55/55\u001b[0m \u001b[32m━━━━━━━━━━━━━━━━━━━━\u001b[0m\u001b[37m\u001b[0m \u001b[1m0s\u001b[0m 2ms/step - accuracy: 0.9774 - loss: 4.3477\n",
            "Epoch 4/10\n",
            "\u001b[1m55/55\u001b[0m \u001b[32m━━━━━━━━━━━━━━━━━━━━\u001b[0m\u001b[37m\u001b[0m \u001b[1m0s\u001b[0m 2ms/step - accuracy: 0.9654 - loss: 4.1760\n",
            "Epoch 5/10\n",
            "\u001b[1m55/55\u001b[0m \u001b[32m━━━━━━━━━━━━━━━━━━━━\u001b[0m\u001b[37m\u001b[0m \u001b[1m0s\u001b[0m 2ms/step - accuracy: 0.9727 - loss: 4.6954\n",
            "Epoch 6/10\n",
            "\u001b[1m55/55\u001b[0m \u001b[32m━━━━━━━━━━━━━━━━━━━━\u001b[0m\u001b[37m\u001b[0m \u001b[1m0s\u001b[0m 2ms/step - accuracy: 0.9691 - loss: 2.6506\n",
            "Epoch 7/10\n",
            "\u001b[1m55/55\u001b[0m \u001b[32m━━━━━━━━━━━━━━━━━━━━\u001b[0m\u001b[37m\u001b[0m \u001b[1m0s\u001b[0m 2ms/step - accuracy: 0.9789 - loss: 1.8547\n",
            "Epoch 8/10\n",
            "\u001b[1m55/55\u001b[0m \u001b[32m━━━━━━━━━━━━━━━━━━━━\u001b[0m\u001b[37m\u001b[0m \u001b[1m0s\u001b[0m 2ms/step - accuracy: 0.9757 - loss: 1.8018\n",
            "Epoch 9/10\n",
            "\u001b[1m55/55\u001b[0m \u001b[32m━━━━━━━━━━━━━━━━━━━━\u001b[0m\u001b[37m\u001b[0m \u001b[1m0s\u001b[0m 2ms/step - accuracy: 0.9709 - loss: 1.8449\n",
            "Epoch 10/10\n",
            "\u001b[1m55/55\u001b[0m \u001b[32m━━━━━━━━━━━━━━━━━━━━\u001b[0m\u001b[37m\u001b[0m \u001b[1m0s\u001b[0m 1ms/step - accuracy: 0.9622 - loss: 1.7254\n",
            "\u001b[1m28/28\u001b[0m \u001b[32m━━━━━━━━━━━━━━━━━━━━\u001b[0m\u001b[37m\u001b[0m \u001b[1m0s\u001b[0m 1ms/step - accuracy: 0.9699 - loss: 5.0565  \n",
            "Accuracy: [4.479558944702148, 0.973774254322052]\n",
            "\u001b[1m28/28\u001b[0m \u001b[32m━━━━━━━━━━━━━━━━━━━━\u001b[0m\u001b[37m\u001b[0m \u001b[1m0s\u001b[0m 4ms/step\n"
          ]
        }
      ]
    },
    {
      "cell_type": "code",
      "source": [
        "# Simulate multiple drones with their own anomaly detection models\n",
        "num_drones = 5\n",
        "drone_models = [IsolationForest(contamination=0.02, random_state=i) for i in range(num_drones)]\n",
        "\n",
        "# Each drone trains its own model\n",
        "for drone_model in drone_models:\n",
        "    drone_model.fit(X_train)\n",
        "\n",
        "# Function to simulate collaborative anomaly detection\n",
        "def collaborative_anomaly_detection(test_data, models):\n",
        "    votes = np.zeros(len(test_data))\n",
        "\n",
        "    for model in models:\n",
        "        # Each drone gives its prediction (-1 for anomaly, 1 for normal)\n",
        "        predictions = model.predict(test_data)\n",
        "        votes += predictions  # Sum up the votes\n",
        "\n",
        "    # Majority voting: if more than half drones vote -1, it's an anomaly\n",
        "    final_predictions = np.where(votes < 0, -1, 1)\n",
        "\n",
        "    return final_predictions\n",
        "\n",
        "# Run the collaboration-based anomaly detection on the test set\n",
        "collaborative_predictions = collaborative_anomaly_detection(X_test, drone_models)\n",
        "print(f\"Collaborative Anomaly Detection Results: {collaborative_predictions}\")\n"
      ],
      "metadata": {
        "colab": {
          "base_uri": "https://localhost:8080/"
        },
        "id": "UU5DCRy08tga",
        "outputId": "fe96d17a-022c-4fc8-b07c-3768c876d7ab"
      },
      "execution_count": 11,
      "outputs": [
        {
          "output_type": "stream",
          "name": "stdout",
          "text": [
            "Collaborative Anomaly Detection Results: [ 1  1  1  1  1  1  1  1  1  1  1  1  1  1  1  1  1  1  1  1  1  1  1  1\n",
            "  1  1  1  1  1  1  1  1  1  1  1  1  1  1  1  1  1  1  1  1  1  1  1  1\n",
            "  1  1  1  1  1  1  1  1  1  1  1  1  1  1  1  1  1  1  1  1  1  1  1 -1\n",
            "  1  1  1  1  1  1  1  1  1  1  1  1  1  1  1  1  1  1  1  1  1  1  1  1\n",
            "  1  1  1  1  1  1  1  1  1  1  1  1  1  1  1  1  1  1  1  1  1  1  1  1\n",
            "  1  1  1  1  1  1  1  1  1  1  1  1  1  1  1  1  1  1  1  1  1  1  1  1\n",
            "  1  1  1  1  1  1  1  1  1  1  1 -1  1  1  1  1  1  1  1  1  1  1 -1  1\n",
            "  1  1  1  1  1  1  1  1  1  1  1  1  1  1  1  1  1  1  1  1  1  1  1  1\n",
            "  1  1  1  1  1  1  1  1  1  1  1  1  1  1  1  1  1  1  1  1  1  1  1  1\n",
            "  1  1  1  1  1  1  1  1  1  1  1  1  1  1  1  1  1  1  1  1  1  1  1  1\n",
            "  1  1  1  1  1  1  1  1  1  1  1  1  1  1  1  1  1  1  1  1  1  1  1  1\n",
            "  1  1  1  1  1  1  1  1  1  1  1  1  1  1  1  1  1  1  1  1  1  1  1  1\n",
            "  1  1  1  1  1  1  1  1  1  1  1  1  1  1  1  1  1  1  1  1  1  1  1  1\n",
            "  1  1  1  1  1  1  1  1  1  1  1  1  1  1  1  1  1  1  1  1  1  1  1  1\n",
            "  1  1  1  1  1  1  1  1  1  1  1  1  1  1  1  1  1  1  1  1  1  1  1  1\n",
            "  1  1  1  1  1  1  1  1  1  1  1 -1  1  1  1  1  1  1  1  1  1  1 -1  1\n",
            "  1  1  1  1  1  1  1  1  1  1  1  1  1  1  1  1  1  1  1  1  1  1  1  1\n",
            "  1  1  1  1  1  1  1  1  1  1  1  1  1  1  1  1  1  1  1 -1  1  1  1  1\n",
            "  1  1  1  1  1  1  1  1  1  1  1  1  1  1  1  1  1  1  1  1  1  1  1  1\n",
            "  1  1  1  1  1  1 -1  1  1  1 -1  1  1  1  1  1  1  1  1  1  1  1  1  1\n",
            "  1  1  1  1  1  1  1  1  1  1  1  1  1  1  1  1  1  1  1  1  1  1  1  1\n",
            "  1  1  1  1  1  1  1  1  1  1  1  1  1  1  1  1  1  1  1  1  1  1  1  1\n",
            "  1  1  1  1  1  1  1  1  1  1  1  1  1 -1  1  1  1  1  1  1  1  1  1  1\n",
            "  1  1  1  1  1  1  1  1 -1  1  1  1  1  1  1  1  1  1  1  1  1  1  1  1\n",
            "  1  1 -1 -1  1  1  1  1  1  1  1  1  1  1  1  1  1  1  1  1  1  1  1  1\n",
            "  1  1  1  1  1  1  1  1  1  1  1  1  1  1  1  1  1  1  1  1  1  1  1  1\n",
            "  1  1  1  1  1  1  1  1  1  1  1  1  1 -1  1  1  1  1  1  1  1  1  1  1\n",
            "  1  1  1  1  1  1  1  1 -1  1  1  1  1  1  1  1  1  1  1  1 -1  1  1  1\n",
            "  1  1  1  1  1  1  1  1  1  1  1  1  1  1  1  1  1  1  1  1  1  1  1  1\n",
            "  1  1  1  1  1  1  1  1  1  1  1  1  1  1  1  1  1  1  1  1  1  1 -1  1\n",
            "  1  1  1  1  1  1  1  1  1  1  1  1  1  1  1  1  1  1  1  1  1  1  1  1\n",
            "  1  1  1  1  1  1  1  1  1  1  1  1  1  1  1  1  1  1  1  1  1  1  1  1\n",
            "  1  1  1  1  1  1  1  1  1  1  1  1  1  1  1  1  1  1 -1  1  1  1  1  1\n",
            "  1  1  1  1  1  1  1  1  1  1  1  1  1  1 -1  1  1  1  1 -1  1  1  1  1\n",
            "  1  1  1  1  1  1  1  1 -1  1  1  1  1  1  1  1  1  1  1  1  1  1  1  1\n",
            "  1  1  1  1  1  1  1  1  1  1  1  1 -1  1  1  1  1  1  1  1  1  1  1  1\n",
            "  1  1  1  1  1  1  1  1  1  1  1  1  1]\n"
          ]
        }
      ]
    },
    {
      "cell_type": "code",
      "source": [
        "import logging\n",
        "\n",
        "# Setup logging\n",
        "logging.basicConfig(filename='intrusion_alerts.log', level=logging.INFO)\n",
        "\n",
        "# Trigger alert for detected anomalies\n",
        "def trigger_alert(anomalies):\n",
        "    if len(anomalies) > 0:\n",
        "        logging.info(f\"Anomalies detected: {anomalies}\")\n",
        "        print(\"ALERT: Anomalies detected. Action required!\")\n",
        "        # Example: Shut down the affected drone or redirect communication\n",
        "        # Implement your specific countermeasures here\n",
        "\n",
        "# Example: Trigger alert for anomalies detected during real-time monitoring\n",
        "for i in range(0, len(X_test), batch_size):\n",
        "    data_chunk = X_test[i:i+batch_size]\n",
        "    anomalies = real_time_monitoring(data_chunk, isolation_forest)\n",
        "    trigger_alert(anomalies)\n"
      ],
      "metadata": {
        "colab": {
          "base_uri": "https://localhost:8080/"
        },
        "id": "9riQs4Vo8tud",
        "outputId": "5e2ca4a3-12c7-4b5b-a946-428df57ab11e"
      },
      "execution_count": 12,
      "outputs": [
        {
          "output_type": "stream",
          "name": "stdout",
          "text": [
            "ALERT: Anomalies detected. Action required!\n",
            "ALERT: Anomalies detected. Action required!\n",
            "ALERT: Anomalies detected. Action required!\n",
            "ALERT: Anomalies detected. Action required!\n",
            "ALERT: Anomalies detected. Action required!\n",
            "ALERT: Anomalies detected. Action required!\n",
            "ALERT: Anomalies detected. Action required!\n",
            "ALERT: Anomalies detected. Action required!\n",
            "ALERT: Anomalies detected. Action required!\n"
          ]
        }
      ]
    },
    {
      "cell_type": "code",
      "source": [],
      "metadata": {
        "id": "qpJoY4gn8t9d"
      },
      "execution_count": null,
      "outputs": []
    }
  ]
}